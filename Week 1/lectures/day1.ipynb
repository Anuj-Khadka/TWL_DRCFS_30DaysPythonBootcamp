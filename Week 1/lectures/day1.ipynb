{
 "cells": [
  {
   "cell_type": "code",
   "execution_count": 2,
   "metadata": {},
   "outputs": [
    {
     "name": "stdout",
     "output_type": "stream",
     "text": [
      "Hello World\n"
     ]
    }
   ],
   "source": [
    "print(\"Hello World\")"
   ]
  },
  {
   "cell_type": "markdown",
   "metadata": {},
   "source": [
    "Input and Variables"
   ]
  },
  {
   "cell_type": "code",
   "execution_count": 3,
   "metadata": {},
   "outputs": [
    {
     "name": "stdout",
     "output_type": "stream",
     "text": [
      "Hello Samrid\n"
     ]
    }
   ],
   "source": [
    "person = input(\"What is your name? \")\n",
    "print(\"Hello \" + person) # string concatenation"
   ]
  },
  {
   "cell_type": "markdown",
   "metadata": {},
   "source": [
    "### Basic Data Types\n",
    "\n",
    "1. Int -> Integer\n",
    "2. Str -> String\n",
    "3. Float -> Float\n",
    "4. None -> Null\n",
    "5. Bool -> Boolean (True, False)"
   ]
  },
  {
   "cell_type": "code",
   "execution_count": 2,
   "metadata": {},
   "outputs": [
    {
     "name": "stdout",
     "output_type": "stream",
     "text": [
      "<class 'int'>\n"
     ]
    }
   ],
   "source": [
    "integer = 1\n",
    "# print(integer)\n",
    "print(type(integer))"
   ]
  },
  {
   "cell_type": "code",
   "execution_count": 3,
   "metadata": {},
   "outputs": [
    {
     "name": "stdout",
     "output_type": "stream",
     "text": [
      "<class 'str'>\n"
     ]
    }
   ],
   "source": [
    "string = \"Samrid\"\n",
    "print(type(string))"
   ]
  },
  {
   "cell_type": "code",
   "execution_count": 4,
   "metadata": {},
   "outputs": [
    {
     "name": "stdout",
     "output_type": "stream",
     "text": [
      "<class 'float'>\n"
     ]
    }
   ],
   "source": [
    "float = 1.0\n",
    "print(type(float))"
   ]
  },
  {
   "cell_type": "code",
   "execution_count": 16,
   "metadata": {},
   "outputs": [
    {
     "name": "stdout",
     "output_type": "stream",
     "text": [
      "<class 'bool'>\n"
     ]
    }
   ],
   "source": [
    "print(type(1==2))"
   ]
  },
  {
   "cell_type": "code",
   "execution_count": 24,
   "metadata": {},
   "outputs": [
    {
     "name": "stdout",
     "output_type": "stream",
     "text": [
      "Your age is 17\n"
     ]
    }
   ],
   "source": [
    "age = input(\"What is your age?\")\n",
    "int_age = int(age)\n",
    "\n",
    "print('Your age is ' + str(int_age))"
   ]
  },
  {
   "cell_type": "markdown",
   "metadata": {},
   "source": [
    "## Control flow Statements"
   ]
  },
  {
   "cell_type": "markdown",
   "metadata": {},
   "source": [
    "For driving license (Bike):\n",
    "\n",
    "1. Input user's age\n",
    "2. Convert user's age to integer\n",
    "3. Check if user is older than 16 years old.\n",
    "4. If user is older, show he is eligible else show he is not."
   ]
  },
  {
   "cell_type": "code",
   "execution_count": 9,
   "metadata": {},
   "outputs": [
    {
     "name": "stdout",
     "output_type": "stream",
     "text": [
      "You are old enough to drive a bike\n"
     ]
    }
   ],
   "source": [
    "# Get user's age\n",
    "age_str = input(\"What is your age?\")\n",
    "\n",
    "# Convert string to int\n",
    "age = int(age_str)\n",
    "\n",
    "# Compare user's age\n",
    "if age >= 16:\n",
    "    print('You are old enough to drive a bike')\n",
    "else:\n",
    "    print(\"You are not old enough to drive a bike\")"
   ]
  },
  {
   "cell_type": "markdown",
   "metadata": {},
   "source": [
    "Login system"
   ]
  },
  {
   "cell_type": "code",
   "execution_count": 12,
   "metadata": {},
   "outputs": [
    {
     "name": "stdout",
     "output_type": "stream",
     "text": [
      "Welcome ankur\n"
     ]
    }
   ],
   "source": [
    "# Login System\n",
    "username = input(\"Enter your username:\")\n",
    "password = input(\"Enter your password:\")\n",
    "\n",
    "# username == 'duck' and password == 'passw0rd'\n",
    "if username == 'duck' and password == 'passw0rd':\n",
    "    print(\"Welcome duck\")\n",
    "elif username == 'ankur' or password == 'ankur123':\n",
    "    print(\"Welcome ankur\")\n",
    "else:\n",
    "    print(\"Invalid username or password\")\n"
   ]
  }
 ],
 "metadata": {
  "kernelspec": {
   "display_name": "Python 3.10.8 64-bit",
   "language": "python",
   "name": "python3"
  },
  "language_info": {
   "codemirror_mode": {
    "name": "ipython",
    "version": 3
   },
   "file_extension": ".py",
   "mimetype": "text/x-python",
   "name": "python",
   "nbconvert_exporter": "python",
   "pygments_lexer": "ipython3",
   "version": "3.10.8"
  },
  "orig_nbformat": 4,
  "vscode": {
   "interpreter": {
    "hash": "d2aa9519aea3ba95bfd343058fe0f3cde72faf1886b2efafdd1015fc8064c51d"
   }
  }
 },
 "nbformat": 4,
 "nbformat_minor": 2
}
